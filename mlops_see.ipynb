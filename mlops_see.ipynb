{
 "cells": [
  {
   "cell_type": "code",
   "execution_count": null,
   "metadata": {},
   "outputs": [],
   "source": [
    "import pandas as pd\n",
    "from pycaret.utils import version\n",
    "from pycaret.datasets import get_data\n",
    "\n",
    "# Check PyCaret version\n",
    "print(version())\n",
    "\n",
    "# Load sample dataset\n",
    "data = get_data('juice')\n",
    "\n",
    "# Display the first 5 rows of the dataset\n",
    "data.head()\n"
   ]
  }
 ],
 "metadata": {
  "language_info": {
   "name": "python"
  }
 },
 "nbformat": 4,
 "nbformat_minor": 2
}
